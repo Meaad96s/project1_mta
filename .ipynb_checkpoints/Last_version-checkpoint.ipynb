{
 "cells": [
  {
   "cell_type": "code",
   "execution_count": 1,
   "metadata": {},
   "outputs": [],
   "source": [
    "import pandas as pd\n",
    "import numpy as np\n",
    "import re\n",
    "from collections import Counter\n",
    "import itertools\n",
    "import matplotlib.pyplot as plt\n",
    "import seaborn as sns\n",
    "from datetime import datetime,timedelta,date\n",
    "%matplotlib inline"
   ]
  },
  {
   "cell_type": "code",
   "execution_count": 2,
   "metadata": {},
   "outputs": [],
   "source": [
    "df = pd.read_csv(\"http://web.mta.info/developers/data/nyct/turnstile/turnstile_190525.txt\", parse_dates=[[6,7]])"
   ]
  },
  {
   "cell_type": "code",
   "execution_count": 3,
   "metadata": {},
   "outputs": [],
   "source": [
    "df.columns=df.columns.str.strip()"
   ]
  },
  {
   "cell_type": "code",
   "execution_count": null,
   "metadata": {
    "scrolled": true
   },
   "outputs": [
    {
     "data": {
      "text/html": [
       "<div>\n",
       "<style scoped>\n",
       "    .dataframe tbody tr th:only-of-type {\n",
       "        vertical-align: middle;\n",
       "    }\n",
       "\n",
       "    .dataframe tbody tr th {\n",
       "        vertical-align: top;\n",
       "    }\n",
       "\n",
       "    .dataframe thead th {\n",
       "        text-align: right;\n",
       "    }\n",
       "</style>\n",
       "<table border=\"1\" class=\"dataframe\">\n",
       "  <thead>\n",
       "    <tr style=\"text-align: right;\">\n",
       "      <th></th>\n",
       "      <th>DATE_TIME</th>\n",
       "      <th>UNIT</th>\n",
       "      <th>SCP</th>\n",
       "      <th>STATION</th>\n",
       "      <th>ENTRIES</th>\n",
       "      <th>EXITS</th>\n",
       "      <th>INFLOW</th>\n",
       "      <th>OUTFLOW</th>\n",
       "      <th>UNIQUE_STILE</th>\n",
       "      <th>UNIQUE_UNIT</th>\n",
       "    </tr>\n",
       "  </thead>\n",
       "  <tbody>\n",
       "    <tr>\n",
       "      <th>0</th>\n",
       "      <td>2019-05-18 00:00:00</td>\n",
       "      <td>R051</td>\n",
       "      <td>02-00-00</td>\n",
       "      <td>59 ST</td>\n",
       "      <td>7062481</td>\n",
       "      <td>2393489</td>\n",
       "      <td>0</td>\n",
       "      <td>0</td>\n",
       "      <td>59 ST*R051*02-00-00</td>\n",
       "      <td>59 ST*R051</td>\n",
       "    </tr>\n",
       "    <tr>\n",
       "      <th>1</th>\n",
       "      <td>2019-05-18 04:00:00</td>\n",
       "      <td>R051</td>\n",
       "      <td>02-00-00</td>\n",
       "      <td>59 ST</td>\n",
       "      <td>7062505</td>\n",
       "      <td>2393492</td>\n",
       "      <td>0</td>\n",
       "      <td>0</td>\n",
       "      <td>59 ST*R051*02-00-00</td>\n",
       "      <td>59 ST*R051</td>\n",
       "    </tr>\n",
       "    <tr>\n",
       "      <th>2</th>\n",
       "      <td>2019-05-18 08:00:00</td>\n",
       "      <td>R051</td>\n",
       "      <td>02-00-00</td>\n",
       "      <td>59 ST</td>\n",
       "      <td>7062529</td>\n",
       "      <td>2393526</td>\n",
       "      <td>0</td>\n",
       "      <td>0</td>\n",
       "      <td>59 ST*R051*02-00-00</td>\n",
       "      <td>59 ST*R051</td>\n",
       "    </tr>\n",
       "    <tr>\n",
       "      <th>3</th>\n",
       "      <td>2019-05-18 12:00:00</td>\n",
       "      <td>R051</td>\n",
       "      <td>02-00-00</td>\n",
       "      <td>59 ST</td>\n",
       "      <td>7062627</td>\n",
       "      <td>2393612</td>\n",
       "      <td>0</td>\n",
       "      <td>0</td>\n",
       "      <td>59 ST*R051*02-00-00</td>\n",
       "      <td>59 ST*R051</td>\n",
       "    </tr>\n",
       "    <tr>\n",
       "      <th>4</th>\n",
       "      <td>2019-05-18 16:00:00</td>\n",
       "      <td>R051</td>\n",
       "      <td>02-00-00</td>\n",
       "      <td>59 ST</td>\n",
       "      <td>7062835</td>\n",
       "      <td>2393662</td>\n",
       "      <td>0</td>\n",
       "      <td>0</td>\n",
       "      <td>59 ST*R051*02-00-00</td>\n",
       "      <td>59 ST*R051</td>\n",
       "    </tr>\n",
       "  </tbody>\n",
       "</table>\n",
       "</div>"
      ],
      "text/plain": [
       "            DATE_TIME  UNIT       SCP STATION  ENTRIES    EXITS  INFLOW  \\\n",
       "0 2019-05-18 00:00:00  R051  02-00-00   59 ST  7062481  2393489       0   \n",
       "1 2019-05-18 04:00:00  R051  02-00-00   59 ST  7062505  2393492       0   \n",
       "2 2019-05-18 08:00:00  R051  02-00-00   59 ST  7062529  2393526       0   \n",
       "3 2019-05-18 12:00:00  R051  02-00-00   59 ST  7062627  2393612       0   \n",
       "4 2019-05-18 16:00:00  R051  02-00-00   59 ST  7062835  2393662       0   \n",
       "\n",
       "   OUTFLOW         UNIQUE_STILE UNIQUE_UNIT  \n",
       "0        0  59 ST*R051*02-00-00  59 ST*R051  \n",
       "1        0  59 ST*R051*02-00-00  59 ST*R051  \n",
       "2        0  59 ST*R051*02-00-00  59 ST*R051  \n",
       "3        0  59 ST*R051*02-00-00  59 ST*R051  \n",
       "4        0  59 ST*R051*02-00-00  59 ST*R051  "
      ]
     },
     "execution_count": 4,
     "metadata": {},
     "output_type": "execute_result"
    }
   ],
   "source": [
    "df1=df.iloc[:,[0,2,3,4,8,9]].copy()\n",
    "df1['INFLOW']=0\n",
    "df1['OUTFLOW']=0\n",
    "df1['UNIQUE_STILE']=df1['STATION']+'*'+df1['UNIT']+'*'+df1['SCP']\n",
    "df1['UNIQUE_UNIT']=df1['STATION']+'*'+df1['UNIT']\n",
    "df1.head()"
   ]
  },
  {
   "cell_type": "code",
   "execution_count": null,
   "metadata": {},
   "outputs": [
    {
     "name": "stdout",
     "output_type": "stream",
     "text": [
      "0 59 ST*R051*02-00-00 [  0.   3.  34.  86.  50.  34.  23.   6.  19.  49.  44.  39.  19.   1.\n",
      " 128. 253.   0.   1.  49.  65.  30.   5. 108. 245.  62.  76.  32.   3.\n",
      " 116. 224.  66.  78.  28.   6.  93. 235.  70.  56.  53.   4.  97. 210.\n",
      "  61.  41.]\n"
     ]
    }
   ],
   "source": [
    "stiles=df1['UNIQUE_STILE'].unique()\n",
    "for i,stile in enumerate(stiles):\n",
    "    df1_stile=df1[df1.UNIQUE_STILE==stile]\n",
    "    df1.loc[df1.UNIQUE_STILE==stile, 'INFLOW']=df1_stile['ENTRIES'].diff().fillna(0)\n",
    "    df1.loc[df1.UNIQUE_STILE==stile, 'OUTFLOW']=df1_stile['EXITS'].diff().fillna(0)\n",
    "    if i%500 == 0:\n",
    "        print(i,stile,df1.loc[df1.UNIQUE_STILE==stile, 'OUTFLOW'].values)\n"
   ]
  },
  {
   "cell_type": "code",
   "execution_count": null,
   "metadata": {},
   "outputs": [],
   "source": [
    "counter=0\n",
    "for i in df1['INFLOW']:\n",
    "    if i<0:\n",
    "        print('fixed')\n",
    "        df1['INFLOW'].values[counter]=0\n",
    "    counter+=1\n",
    "    #print(i)\n",
    "counter"
   ]
  },
  {
   "cell_type": "code",
   "execution_count": null,
   "metadata": {},
   "outputs": [],
   "source": [
    "df1.describe()"
   ]
  },
  {
   "cell_type": "code",
   "execution_count": null,
   "metadata": {},
   "outputs": [],
   "source": [
    "counter=0\n",
    "for i in df1['OUTFLOW']:\n",
    "    if i<0:\n",
    "        #print('fixed')\n",
    "        df1['OUTFLOW'].values[counter]=0\n",
    "    counter+=1\n",
    "    #print(i)\n",
    "counter"
   ]
  },
  {
   "cell_type": "code",
   "execution_count": null,
   "metadata": {},
   "outputs": [],
   "source": [
    "df1.describe()"
   ]
  },
  {
   "cell_type": "code",
   "execution_count": null,
   "metadata": {},
   "outputs": [],
   "source": [
    "df1.head(10)"
   ]
  },
  {
   "cell_type": "code",
   "execution_count": null,
   "metadata": {},
   "outputs": [],
   "source": [
    "# plt.figure(figsize=(200,200))\n",
    "exists_sum = df1.groupby('STATION').sum().sort_values('OUTFLOW',ascending=False)\n",
    "plt.pie(exists_sum.head(10).OUTFLOW,labels= exists_sum.head(10).index.values,autopct='%1.0f%%');\n",
    "# plt.bar(exists_sum.head(10).STATION,exists_sum.head(10).EXITS)#.bar();\n",
    "plt.title(\"Top Ten Station BY Number Of Exists\");"
   ]
  },
  {
   "cell_type": "code",
   "execution_count": null,
   "metadata": {},
   "outputs": [],
   "source": [
    "exits_list=exists_sum.head(10).OUTFLOW\n",
    "exits_list\n"
   ]
  },
  {
   "cell_type": "code",
   "execution_count": null,
   "metadata": {},
   "outputs": [],
   "source": [
    "exists_sum.head()"
   ]
  },
  {
   "cell_type": "code",
   "execution_count": null,
   "metadata": {},
   "outputs": [],
   "source": [
    "updated_exists_sum= exists_sum.drop(['FULTON ST'])"
   ]
  },
  {
   "cell_type": "code",
   "execution_count": null,
   "metadata": {},
   "outputs": [],
   "source": [
    "updated_exists_sum.head(10)"
   ]
  },
  {
   "cell_type": "code",
   "execution_count": null,
   "metadata": {},
   "outputs": [],
   "source": [
    "plt.figure(figsize=(20,8))\n",
    "x = updated_exists_sum\n",
    "plt.plot(x);"
   ]
  },
  {
   "cell_type": "code",
   "execution_count": null,
   "metadata": {},
   "outputs": [],
   "source": [
    "station_col = df1.groupby('STATION')\n",
    "station_name = station_col.get_group('FULTON ST')\n",
    "station_name"
   ]
  },
  {
   "cell_type": "code",
   "execution_count": null,
   "metadata": {},
   "outputs": [],
   "source": [
    "plt.figure(figsize=(8,8))\n",
    "toyStory_movie['Rating'].value_counts().plot(kind='bar', alpha=0.7)\n",
    "plt.title('The User Rating of The Movie Toy Story')\n",
    "plt.show()"
   ]
  },
  {
   "cell_type": "code",
   "execution_count": null,
   "metadata": {},
   "outputs": [],
   "source": []
  }
 ],
 "metadata": {
  "kernelspec": {
   "display_name": "Python 3",
   "language": "python",
   "name": "python3"
  },
  "language_info": {
   "codemirror_mode": {
    "name": "ipython",
    "version": 3
   },
   "file_extension": ".py",
   "mimetype": "text/x-python",
   "name": "python",
   "nbconvert_exporter": "python",
   "pygments_lexer": "ipython3",
   "version": "3.7.3"
  }
 },
 "nbformat": 4,
 "nbformat_minor": 2
}
